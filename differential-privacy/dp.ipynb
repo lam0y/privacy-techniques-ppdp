{
 "cells": [
  {
   "cell_type": "code",
   "execution_count": null,
   "id": "4fb6552e",
   "metadata": {},
   "outputs": [],
   "source": [
    "## Acknowledgements\n",
    "\n",
    "# This project uses the following libraries:\n",
    "# - diffprivlib (https://github.com/IBM/differential-privacy-library) by IBM Corporation — licensed under MIT License.\n",
    "\n",
    "# pip install diffprivlib"
   ]
  },
  {
   "cell_type": "code",
   "execution_count": null,
   "id": "9ed8a786",
   "metadata": {},
   "outputs": [],
   "source": [
    "# Load libraries\n",
    "import pandas as pd\n",
    "import numpy as np\n",
    "\n",
    "# Load datset\n",
    "df = pd.read_csv(\"../data/adult.csv\")\n",
    "\n",
    "# Find and replace null values\n",
    "df[df == '?'] = np.nan\n",
    "\n",
    "for col in ['workclass', 'occupation', 'native.country']:\n",
    "    df[col].fillna(df[col].mode()[0], inplace=True)"
   ]
  },
  {
   "cell_type": "code",
   "execution_count": 11,
   "id": "a670a15e",
   "metadata": {},
   "outputs": [],
   "source": [
    "# Setting target and feature vector variables\n",
    "X = df.drop(['income'], axis=1)\n",
    "y = df['income']"
   ]
  },
  {
   "cell_type": "code",
   "execution_count": 12,
   "id": "a6c54a40",
   "metadata": {},
   "outputs": [],
   "source": [
    "# Split into training and test data\n",
    "from sklearn.model_selection import train_test_split\n",
    "\n",
    "X_train, X_test, y_train, y_test = train_test_split(X, y, test_size = 0.3, random_state = 42)"
   ]
  },
  {
   "cell_type": "code",
   "execution_count": 13,
   "id": "338d42a1",
   "metadata": {},
   "outputs": [],
   "source": [
    "# Encode categorical variables\n",
    "from sklearn import preprocessing\n",
    "\n",
    "categorical = ['workclass', 'education', 'marital.status', 'occupation', 'relationship', 'race', 'sex', 'native.country']\n",
    "for feature in categorical:\n",
    "        le = preprocessing.LabelEncoder()\n",
    "        X_train[feature] = le.fit_transform(X_train[feature])\n",
    "        \n",
    "        X_test[feature] = le.transform(X_test[feature])"
   ]
  },
  {
   "cell_type": "code",
   "execution_count": 14,
   "id": "73e50eeb",
   "metadata": {},
   "outputs": [],
   "source": [
    "# Feature scaling\n",
    "from sklearn.preprocessing import StandardScaler\n",
    "\n",
    "scaler = StandardScaler()\n",
    "\n",
    "X_train = pd.DataFrame(scaler.fit_transform(X_train), columns = X.columns)\n",
    "X_test = pd.DataFrame(scaler.transform(X_test), columns = X.columns)\n"
   ]
  },
  {
   "cell_type": "code",
   "execution_count": null,
   "id": "4dea761c",
   "metadata": {},
   "outputs": [
    {
     "name": "stdout",
     "output_type": "stream",
     "text": [
      "DP Logistic Regression Accuracy: 0.8165625959668339\n"
     ]
    }
   ],
   "source": [
    "from diffprivlib.models import LogisticRegression\n",
    "from sklearn.metrics import accuracy_score\n",
    "\n",
    "# Initialize DP model\n",
    "dp_lr = LogisticRegression(\n",
    "    epsilon=0.5,  # Privacy budget (lower = more privacy, less accuracy)\n",
    "    data_norm=5.0  # Norm bound for each data point (required for DP)\n",
    ")\n",
    "\n",
    "# Fit the model\n",
    "dp_lr.fit(X_train, y_train)\n",
    "\n",
    "# Predict and evaluate\n",
    "y_pred = dp_lr.predict(X_test)\n",
    "print(\"DP Logistic Regression Accuracy:\", accuracy_score(y_test, y_pred))\n"
   ]
  },
  {
   "cell_type": "code",
   "execution_count": 17,
   "id": "da5bb720",
   "metadata": {},
   "outputs": [
    {
     "name": "stdout",
     "output_type": "stream",
     "text": [
      "Non-private Accuracy: 0.8258777766403931\n"
     ]
    }
   ],
   "source": [
    "# Compare with non-private logistic regression\n",
    "from sklearn.linear_model import LogisticRegression as SkLogReg\n",
    "\n",
    "clf = SkLogReg(max_iter=1000)\n",
    "clf.fit(X_train, y_train)\n",
    "print(\"Non-private Accuracy:\", accuracy_score(y_test, clf.predict(X_test)))\n"
   ]
  },
  {
   "cell_type": "code",
   "execution_count": 19,
   "id": "71af6005",
   "metadata": {},
   "outputs": [
    {
     "name": "stdout",
     "output_type": "stream",
     "text": [
      "Epsilon: 0.1 => Accuracy: 0.7652\n",
      "Epsilon: 0.2 => Accuracy: 0.8145\n",
      "Epsilon: 0.3 => Accuracy: 0.8121\n",
      "Epsilon: 0.5 => Accuracy: 0.8239\n",
      "Epsilon: 1.0 => Accuracy: 0.8272\n",
      "Epsilon: 5.0 => Accuracy: 0.8270\n",
      "Epsilon: 10.0 => Accuracy: 0.8265\n"
     ]
    }
   ],
   "source": [
    "# Compare different epsilon values\n",
    "# Find the best privacy level to use\n",
    "for eps in [0.1, 0.2, 0.3, 0.5, 1.0, 5.0, 10.0]:\n",
    "    dp_lr = LogisticRegression(epsilon=eps, data_norm=5.0)\n",
    "    dp_lr.fit(X_train, y_train)\n",
    "    acc = accuracy_score(y_test, dp_lr.predict(X_test))\n",
    "    print(f\"Epsilon: {eps} => Accuracy: {acc:.4f}\")"
   ]
  }
 ],
 "metadata": {
  "kernelspec": {
   "display_name": "venv-pet",
   "language": "python",
   "name": "venv-pet"
  },
  "language_info": {
   "codemirror_mode": {
    "name": "ipython",
    "version": 3
   },
   "file_extension": ".py",
   "mimetype": "text/x-python",
   "name": "python",
   "nbconvert_exporter": "python",
   "pygments_lexer": "ipython3",
   "version": "3.9.6"
  }
 },
 "nbformat": 4,
 "nbformat_minor": 5
}
